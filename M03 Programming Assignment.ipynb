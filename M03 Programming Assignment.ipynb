{
 "cells": [
  {
   "cell_type": "code",
   "execution_count": null,
   "id": "dfb664a2-8ae8-49da-8a98-9f2b8f4f1977",
   "metadata": {},
   "outputs": [],
   "source": [
    "# 7.4\n",
    "\n",
    "things = [\"mozzarella\", \"cinderella\", \"salmonella\"]\n",
    "\n",
    "# 7.5\n",
    "\n",
    "for i in range(len(things)):\n",
    "    if \"cinderella\" in things[i]:\n",
    "        things[i] = things[i].capitalize()\n",
    "        print(things)\n",
    "\n",
    "# 7.6\n",
    "\n",
    "for i in range(len(things)):\n",
    "    if \"mozzarella\" in things[i]:\n",
    "        things[i] = things[i].upper()\n",
    "        print(things)\n",
    "\n",
    "# 7.7\n",
    "\n",
    "things.remove(\"salmonella\")\n",
    "print(things)"
   ]
  },
  {
   "cell_type": "code",
   "execution_count": null,
   "id": "ccfd24f4-611d-445a-b90c-b7378b5e2fc8",
   "metadata": {},
   "outputs": [],
   "source": [
    "# 9.1\n",
    "\n",
    "def good():\n",
    "    return['Harry', 'Ron', 'Hermione']"
   ]
  },
  {
   "cell_type": "code",
   "execution_count": null,
   "id": "a669101f-a03e-405e-a6f7-bc58b27fa832",
   "metadata": {},
   "outputs": [],
   "source": [
    "# 9.2\n",
    "\n",
    "def get_odds():\n",
    "    for number in range(1, 10, 2):\n",
    "        yield number\n",
    "\n",
    "count = 0\n",
    "for odd in get_odds():\n",
    "    count +=1\n",
    "    if count ==3:\n",
    "        print(odd)\n",
    "        break"
   ]
  }
 ],
 "metadata": {
  "kernelspec": {
   "display_name": "Python 3 (ipykernel)",
   "language": "python",
   "name": "python3"
  },
  "language_info": {
   "codemirror_mode": {
    "name": "ipython",
    "version": 3
   },
   "file_extension": ".py",
   "mimetype": "text/x-python",
   "name": "python",
   "nbconvert_exporter": "python",
   "pygments_lexer": "ipython3",
   "version": "3.11.7"
  }
 },
 "nbformat": 4,
 "nbformat_minor": 5
}
